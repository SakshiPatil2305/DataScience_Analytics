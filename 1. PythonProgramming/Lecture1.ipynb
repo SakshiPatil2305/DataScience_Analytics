{
 "cells": [
  {
   "cell_type": "code",
   "execution_count": 15,
   "id": "fb04ca6a",
   "metadata": {},
   "outputs": [
    {
     "name": "stdout",
     "output_type": "stream",
     "text": [
      "<class 'int'>\n",
      "<class 'float'>\n",
      "<class 'complex'>\n",
      "200\n"
     ]
    }
   ],
   "source": [
    "#Single Line comment\n",
    "# datatype in pytgon programming\n",
    "'''\n",
    "1. Int \n",
    "2. Float \n",
    "3. Complex \n",
    "4. String \n",
    "5. Boolean \n",
    "6. list \n",
    "7. tuple \n",
    "8. set \n",
    "9. dict \n",
    "10. class : Custom Datatype\n",
    "'''\n",
    "number = 100\n",
    "number1 = 23.456 \n",
    "number2 = 2 + 3j\n",
    "\n",
    "\n",
    "print(type(number))\n",
    "print(type(number1))\n",
    "print(type(number2))\n",
    "\n",
    "# variable Desfination\n",
    "\n",
    "x=10 #single variable assigment\n",
    "x,y = 1000,2000\n",
    "x,y,z,_ = 1,2,3,4  #multiple variable assignment\n",
    "_,a,b,c = 10,20,30,40\n",
    "\n",
    "num=100\n",
    "\n",
    "num1 = 2\n",
    "\n",
    "num2 = num * num1\n",
    "print(num2)\n",
    "\n",
    "\n"
   ]
  },
  {
   "cell_type": "code",
   "execution_count": 16,
   "id": "16858a51",
   "metadata": {},
   "outputs": [
    {
     "data": {
      "text/plain": [
       "'\\n1. Special character are not allowed at the prefix of variable.\\nexample: 123num : not allowed X\\n2. the variable defination should contain any special character or space.\\nexample: Primary Number : not allowed X\\n\\n\\n'"
      ]
     },
     "execution_count": 16,
     "metadata": {},
     "output_type": "execute_result"
    }
   ],
   "source": [
    "Integer_number =100\n",
    "#Rules for variable defination\n",
    "'''\n",
    "1. Special character are not allowed at the prefix of variable.\n",
    "example: 123num : not allowed X\n",
    "2. the variable defination should contain any special character or space.\n",
    "example: Primary Number : not allowed X\n",
    "\n",
    "\n",
    "'''"
   ]
  },
  {
   "cell_type": "code",
   "execution_count": 17,
   "id": "7a1eab50",
   "metadata": {},
   "outputs": [
    {
     "name": "stdout",
     "output_type": "stream",
     "text": [
      "heyy\n",
      "300\n"
     ]
    }
   ],
   "source": [
    "# print Function\n",
    "\n",
    "print('heyy')\n",
    "print(100+200)"
   ]
  },
  {
   "cell_type": "code",
   "execution_count": 18,
   "id": "fd2cb6f0",
   "metadata": {},
   "outputs": [
    {
     "name": "stdout",
     "output_type": "stream",
     "text": [
      "The Output of Two Mathematical Number Operation 254.0\n",
      "The Output of Two Mathematical Number Operation 254.0\n",
      "The Output of Two Mathematical Number Operation 254.0\n"
     ]
    }
   ],
   "source": [
    "# example: simple calculator\n",
    "\n",
    "'''\n",
    "logic:\n",
    "step1: ask user to enter the two values\n",
    "step2: perform mathematical operation\n",
    "step3: print the output\n",
    "\n",
    "'''\n",
    "num1 = float(input('enter the first value:'))     # type casted to float\n",
    "num2 = float(input('enter the second value:'))     # type casted to float\n",
    "\n",
    "num3= num1 + num2\n",
    "\n",
    "print('The Output of Two Mathematical Number Operation',num3)\n",
    "print(f'The Output of Two Mathematical Number Operation {num3}')\n",
    "print(f'The Output of Two Mathematical Number Operation {num3}'.format(num3))"
   ]
  },
  {
   "cell_type": "code",
   "execution_count": 19,
   "id": "28c6f5c1",
   "metadata": {},
   "outputs": [
    {
     "name": "stdout",
     "output_type": "stream",
     "text": [
      "ello Welc\n"
     ]
    }
   ],
   "source": [
    "#concept of indexing and slicing\n",
    "\n",
    "str = 'Hello Welcome to the World of Python Programming.'\n",
    "\n",
    "str[3]\n",
    "\n",
    "'''\n",
    "note: \n",
    "string indexing : string[start:stop:step]\n",
    "\n",
    "'''\n",
    "print(str[1:10:1])"
   ]
  },
  {
   "cell_type": "code",
   "execution_count": 20,
   "id": "122f02ad",
   "metadata": {},
   "outputs": [
    {
     "name": "stdout",
     "output_type": "stream",
     "text": [
      "i SAGetCut\n"
     ]
    }
   ],
   "source": [
    "str= 'India IS A Great Country'\n",
    "print(str[3:-2:2])"
   ]
  },
  {
   "cell_type": "code",
   "execution_count": 21,
   "id": "44beb2c4",
   "metadata": {},
   "outputs": [
    {
     "name": "stdout",
     "output_type": "stream",
     "text": [
      "eciN aci\n",
      "rica Nic\n"
     ]
    }
   ],
   "source": [
    "str = 'America Nice'\n",
    "print (str[-1:-9:-1])\n",
    "print (str[-9:-1: ])"
   ]
  },
  {
   "cell_type": "code",
   "execution_count": 22,
   "id": "9633ed4d",
   "metadata": {},
   "outputs": [
    {
     "name": "stdout",
     "output_type": "stream",
     "text": [
      "I am True\n"
     ]
    }
   ],
   "source": [
    "# IF STATEMENT\n",
    "\n",
    "if True:\n",
    "    print('I am True')\n",
    "    \n",
    "if False:\n",
    "    print('I am False')    "
   ]
  },
  {
   "cell_type": "code",
   "execution_count": 23,
   "id": "40f38dea",
   "metadata": {},
   "outputs": [
    {
     "ename": "SyntaxError",
     "evalue": "unmatched ']' (1814089470.py, line 13)",
     "output_type": "error",
     "traceback": [
      "  \u001b[36mCell\u001b[39m\u001b[36m \u001b[39m\u001b[32mIn[23]\u001b[39m\u001b[32m, line 13\u001b[39m\n\u001b[31m    \u001b[39m\u001b[31m]print(\"\")\u001b[39m\n    ^\n\u001b[31mSyntaxError\u001b[39m\u001b[31m:\u001b[39m unmatched ']'\n"
     ]
    }
   ],
   "source": [
    "'''\n",
    "Logic:\n",
    "\n",
    "if <condition>:\n",
    "    print(\"output1\")\n",
    "else:\n",
    "    print(\"output2\")\n",
    "        \n",
    "'''\n",
    "\n",
    "num =100\n",
    "if  num > 100:\n",
    "    ]print(\"\")"
   ]
  },
  {
   "cell_type": "code",
   "execution_count": null,
   "id": "de058216",
   "metadata": {},
   "outputs": [
    {
     "name": "stdout",
     "output_type": "stream",
     "text": [
      "The number is 2\n"
     ]
    }
   ],
   "source": [
    "number = float(input(\"Enter the Number between 1 to 3\"))\n",
    "\n",
    "if number == 1:\n",
    "    print(\"The number is 1\")\n",
    "\n",
    "if number == 2:\n",
    "    print(\"The number is 2\")\n",
    "    \n",
    "if number == 3:\n",
    "    print(\"The numbv=er is 3\")"
   ]
  },
  {
   "cell_type": "code",
   "execution_count": null,
   "id": "8417ce5e",
   "metadata": {},
   "outputs": [
    {
     "name": "stdout",
     "output_type": "stream",
     "text": [
      "The Enter number is higher value\n",
      "The number is 2\n"
     ]
    }
   ],
   "source": [
    "number = float(input())\n",
    "\n",
    "if number > 2:\n",
    "    print(\"The Enter number is higher value\")\n",
    "if number < 2:\n",
    "    print(\"The number is lower value\")\n",
    "else: \n",
    "    print(\"The number is 2\")"
   ]
  },
  {
   "cell_type": "code",
   "execution_count": null,
   "id": "13c9bded",
   "metadata": {},
   "outputs": [
    {
     "name": "stdout",
     "output_type": "stream",
     "text": [
      "The given string is plaindrom\n"
     ]
    }
   ],
   "source": [
    "#Example: To check whether the given string is palindrom or not \n",
    "\n",
    "''' \n",
    "Logic:\n",
    "\n",
    "Step1: Ask user to enter string\n",
    "Step2: Reverse the string \n",
    "Step3: Use if else logic to print the output  \n",
    "'''\n",
    "\n",
    "text1 = input(\"Enter the string\")\n",
    "text2 = text1[::-1]\n",
    "\n",
    "if text1 == text2:     #This is comparison operator\n",
    "    print(\"The given string is plaindrom\")\n",
    "else:\n",
    "    print(\"Not a palindrom\") "
   ]
  },
  {
   "cell_type": "code",
   "execution_count": null,
   "id": "c6635a02",
   "metadata": {},
   "outputs": [
    {
     "name": "stdout",
     "output_type": "stream",
     "text": [
      "the volume of Cylinder is9426.300000000001mm^3\n"
     ]
    }
   ],
   "source": [
    "#example: Write  a program to print Volume of Cylinder\n",
    "'''\n",
    "volume = area*height\n",
    "step1: ask a user to enter the diameter of cylinder\n",
    "step2: ask user to enter the height of the cylinder\n",
    "step3: volume = area * height \n",
    "step4: print the desired output \n",
    "\n",
    "'''\n",
    "PI = 3.1421\n",
    "Diameter = float(input(\"enter the diameter of cylinder:\"))\n",
    "Height = float(input(\"enter the height of cylinder:\"))\n",
    "\n",
    "volume =(PI/4)* (Diameter**2) * Height\n",
    "print(f'the volume of Cylinder is{volume}mm^3')"
   ]
  },
  {
   "cell_type": "code",
   "execution_count": null,
   "id": "1202a483",
   "metadata": {},
   "outputs": [
    {
     "name": "stdout",
     "output_type": "stream",
     "text": [
      "bright\n"
     ]
    }
   ],
   "source": [
    "#EXAMPLE:\n",
    "'''\n",
    "step1: ask user to enter the marks\n",
    "step2:logic:\n",
    "         marks >90: excellent\n",
    "         90<marks>60 :bright\n",
    "         marks less than 60: moderate\n",
    "step3: print the output         \n",
    "'''\n",
    "marks=float(input(\"enter the marks\"))\n",
    "\n",
    "if marks>=90:\n",
    "    print('excellent')\n",
    "elif marks <90 and marks >60:\n",
    "    print(\"bright\")\n",
    "else:\n",
    "    print(\"average\")    \n"
   ]
  },
  {
   "cell_type": "code",
   "execution_count": null,
   "id": "da43184c",
   "metadata": {},
   "outputs": [
    {
     "name": "stdout",
     "output_type": "stream",
     "text": [
      "0\n",
      "1\n",
      "2\n",
      "3\n",
      "4\n",
      "5\n",
      "6\n",
      "7\n",
      "8\n",
      "9\n"
     ]
    }
   ],
   "source": [
    "# for loop\n",
    "#range (start,stop,step)\n",
    "for i in range(0,10):\n",
    "    print (i)"
   ]
  },
  {
   "cell_type": "code",
   "execution_count": null,
   "id": "ba45de8b",
   "metadata": {},
   "outputs": [
    {
     "name": "stdout",
     "output_type": "stream",
     "text": [
      "0\n",
      "2\n",
      "4\n",
      "6\n",
      "8\n"
     ]
    }
   ],
   "source": [
    "for i in range(0,10,2):\n",
    "    print(i)"
   ]
  },
  {
   "cell_type": "code",
   "execution_count": null,
   "id": "7f70aa71",
   "metadata": {},
   "outputs": [
    {
     "name": "stdout",
     "output_type": "stream",
     "text": [
      "0 1 2 3 4 5 6 7 8 9 "
     ]
    }
   ],
   "source": [
    "for i in range(0,10):\n",
    "    print(i,end =' ')"
   ]
  },
  {
   "cell_type": "code",
   "execution_count": null,
   "id": "7fe00f55",
   "metadata": {},
   "outputs": [
    {
     "name": "stdout",
     "output_type": "stream",
     "text": [
      "\n",
      "*\n",
      "**\n",
      "***\n",
      "****\n"
     ]
    }
   ],
   "source": [
    "for i in range(5):\n",
    "  print('*'*i)"
   ]
  },
  {
   "cell_type": "code",
   "execution_count": null,
   "id": "a1355659",
   "metadata": {},
   "outputs": [
    {
     "name": "stdout",
     "output_type": "stream",
     "text": [
      "0\n",
      "1\n",
      "2\n",
      "3\n",
      "4\n",
      "5\n",
      "6\n"
     ]
    }
   ],
   "source": [
    "for i in range (0,10):\n",
    "    print(i)\n",
    "    if i==6:\n",
    "        break"
   ]
  },
  {
   "cell_type": "code",
   "execution_count": null,
   "id": "543e9607",
   "metadata": {},
   "outputs": [
    {
     "name": "stdout",
     "output_type": "stream",
     "text": [
      "0\n",
      "1\n",
      "2\n",
      "3\n",
      "4\n",
      "5\n",
      "6\n",
      "7\n",
      "8\n",
      "9\n"
     ]
    }
   ],
   "source": [
    "for i in range (0,10):\n",
    "    print(i)\n",
    "    if i==6:\n",
    "        continue"
   ]
  },
  {
   "cell_type": "code",
   "execution_count": null,
   "id": "aef3763f",
   "metadata": {},
   "outputs": [
    {
     "name": "stdout",
     "output_type": "stream",
     "text": [
      "0\n",
      "1\n",
      "2\n",
      "3\n",
      "4\n",
      "5\n",
      "6\n",
      "7\n",
      "8\n",
      "9\n"
     ]
    }
   ],
   "source": [
    "for i in range (0,10):\n",
    "    print(i)\n",
    "    if i==6:\n",
    "        continue"
   ]
  },
  {
   "cell_type": "code",
   "execution_count": null,
   "id": "c8dae5c8",
   "metadata": {},
   "outputs": [],
   "source": [
    "# define function : test\n",
    "\n",
    "def test():   #Defining a function : test\n",
    "    pass\n",
    "\n",
    "test()    #calling a function: test"
   ]
  },
  {
   "cell_type": "code",
   "execution_count": 25,
   "id": "8ef74ef1",
   "metadata": {},
   "outputs": [
    {
     "name": "stdout",
     "output_type": "stream",
     "text": [
      "the given string is a palindrome\n"
     ]
    }
   ],
   "source": [
    "# example:\n",
    "# palindromefunction definition\n",
    "def palindrome():\n",
    "\n",
    "    text1 = input('enter the string:')\n",
    "    text2 =text1[::-1]\n",
    "\n",
    "    if text1 == text2:\n",
    "        print(\"the given string is a palindrome\")\n",
    "    else:\n",
    "        print(\"the given is not a palindrome\")\n",
    "        \n",
    "    \n",
    "palindrome()   #function calling\n",
    "\n",
    "     "
   ]
  },
  {
   "cell_type": "code",
   "execution_count": null,
   "id": "62e23ffb",
   "metadata": {},
   "outputs": [
    {
     "name": "stdout",
     "output_type": "stream",
     "text": [
      "the answer is 300\n"
     ]
    },
    {
     "ename": "",
     "evalue": "",
     "output_type": "error",
     "traceback": [
      "\u001b[1;31mThe Kernel crashed while executing code in the current cell or a previous cell. \n",
      "\u001b[1;31mPlease review the code in the cell(s) to identify a possible cause of the failure. \n",
      "\u001b[1;31mClick <a href='https://aka.ms/vscodeJupyterKernelCrash'>here</a> for more info. \n",
      "\u001b[1;31mView Jupyter <a href='command:jupyter.viewOutput'>log</a> for further details."
     ]
    }
   ],
   "source": [
    "#example\n",
    "\n",
    "def compute(num1,num2):\n",
    "    num3 =num1+num2\n",
    "    return num3\n",
    "\n",
    "ans = compute(100,200)\n",
    " \n",
    "print(f'the answer is {ans}')"
   ]
  },
  {
   "cell_type": "code",
   "execution_count": null,
   "id": "6d909b3e",
   "metadata": {},
   "outputs": [
    {
     "name": "stdout",
     "output_type": "stream",
     "text": [
      "[1, 2, 3, 100.2, 3.1421, (3+4j), 'hello world', True, [1, 2, 3], 100]\n",
      "[0, 1, 2, 3, 100.2, 3.1421, (3+4j), 'hello world', True, [1, 2, 3], 100]\n"
     ]
    }
   ],
   "source": [
    "# data structure of python programming\n",
    "'''\n",
    "1. list\n",
    "2. tuple\n",
    "3. dictonary\n",
    "4. sets\n",
    "'''\n",
    "\n",
    "#list\n",
    "\n",
    "a = [1,2,3,100.2000,3.1421,3+4j,'hello world',True,[1,2,3]]\n",
    "a.append(100)\n",
    "print(a)\n",
    "a.insert(0,0)\n",
    "print(a)\n"
   ]
  },
  {
   "cell_type": "code",
   "execution_count": 3,
   "id": "3293a3e7",
   "metadata": {},
   "outputs": [
    {
     "name": "stdout",
     "output_type": "stream",
     "text": [
      "[0, 1, 2, 3, 100.2, 3.1421, (3+4j), 'hello world', True, [1, 2, 3]]\n"
     ]
    }
   ],
   "source": [
    "a.pop()\n",
    "print(a)"
   ]
  },
  {
   "cell_type": "code",
   "execution_count": 4,
   "id": "f5bff7e7",
   "metadata": {},
   "outputs": [
    {
     "name": "stdout",
     "output_type": "stream",
     "text": [
      "[1, 2, 3, 100.2, 3.1421, (3+4j), 'hello world', True, [1, 2, 3]]\n"
     ]
    }
   ],
   "source": [
    "a.remove(0)\n",
    "print(a)"
   ]
  },
  {
   "cell_type": "code",
   "execution_count": null,
   "id": "734cdc35",
   "metadata": {},
   "outputs": [
    {
     "name": "stdout",
     "output_type": "stream",
     "text": [
      "2\n",
      "<class 'list'>\n"
     ]
    }
   ],
   "source": [
    "'''\n",
    "any function defined in a class called as method\n",
    "example: in a list a= [100,200,300]\n",
    "a.append(400)\n",
    "here, append() is function, but this function is defined inside a class list so it is called method\n",
    "'''\n",
    "\n",
    "print(a.count(1))\n",
    "print(type(a))\n"
   ]
  },
  {
   "cell_type": "code",
   "execution_count": 6,
   "id": "957a2dfb",
   "metadata": {},
   "outputs": [
    {
     "name": "stdout",
     "output_type": "stream",
     "text": [
      "[1000, 2000, 3000, 5000, 6000]\n"
     ]
    }
   ],
   "source": [
    "lst=[1000,5000,6000,2000,3000]\n",
    "lst.sort()\n",
    "print(lst)"
   ]
  },
  {
   "cell_type": "code",
   "execution_count": 7,
   "id": "7e521da4",
   "metadata": {},
   "outputs": [
    {
     "name": "stdout",
     "output_type": "stream",
     "text": [
      "[6000, 5000, 3000, 2000, 1000]\n"
     ]
    }
   ],
   "source": [
    "lst.reverse()\n",
    "print(lst)"
   ]
  },
  {
   "cell_type": "code",
   "execution_count": 8,
   "id": "14c62790",
   "metadata": {},
   "outputs": [
    {
     "name": "stdout",
     "output_type": "stream",
     "text": [
      "3000\n"
     ]
    }
   ],
   "source": [
    "lst=[100,200,[3000],400]\n",
    "print(lst[2][0])"
   ]
  },
  {
   "cell_type": "code",
   "execution_count": 9,
   "id": "83d119f2",
   "metadata": {},
   "outputs": [
    {
     "name": "stdout",
     "output_type": "stream",
     "text": [
      "5\n",
      "1000\n"
     ]
    }
   ],
   "source": [
    "lst= [1,[2,3,4,5,[6,7,[10,[1000],110,],200,300],10],1]\n",
    "print(lst[1][3])\n",
    "print(lst[1][4][2][1][0])"
   ]
  },
  {
   "cell_type": "code",
   "execution_count": 10,
   "id": "4aa723ef",
   "metadata": {},
   "outputs": [
    {
     "name": "stdout",
     "output_type": "stream",
     "text": [
      "300\n",
      "300\n"
     ]
    }
   ],
   "source": [
    "print(lst[-2][-2][-1])\n",
    "print(lst[1][4][4])"
   ]
  },
  {
   "cell_type": "code",
   "execution_count": 23,
   "id": "4f099aad",
   "metadata": {},
   "outputs": [
    {
     "name": "stdout",
     "output_type": "stream",
     "text": [
      "8\n",
      "[4, 5, [6], [7]]\n",
      "8\n"
     ]
    }
   ],
   "source": [
    "lst=[100,200,300,[1,2,[3,4,5,[6],[7],[8,[9],1],1],1],1]\n",
    "print(lst[3][2][5][0])\n",
    "\n",
    "# 4,5,[6],[7]\n",
    "print(lst[3][2][1:5])\n",
    "print(lst[-2][-2][-2][-3])"
   ]
  },
  {
   "cell_type": "code",
   "execution_count": 24,
   "id": "04378cf5",
   "metadata": {},
   "outputs": [
    {
     "data": {
      "text/plain": [
       "1"
      ]
     },
     "execution_count": 24,
     "metadata": {},
     "output_type": "execute_result"
    }
   ],
   "source": [
    "# tuple\n",
    "\n",
    "b= (100,200,3.1421,True,False,'hello world',(1,2,3,4))\n",
    "b.count(100)"
   ]
  },
  {
   "cell_type": "code",
   "execution_count": 25,
   "id": "5967d60f",
   "metadata": {},
   "outputs": [
    {
     "data": {
      "text/plain": [
       "1"
      ]
     },
     "execution_count": 25,
     "metadata": {},
     "output_type": "execute_result"
    }
   ],
   "source": [
    "b.index(200)"
   ]
  },
  {
   "cell_type": "code",
   "execution_count": null,
   "id": "2320cee1",
   "metadata": {},
   "outputs": [
    {
     "name": "stdout",
     "output_type": "stream",
     "text": [
      "number is even10\n",
      "the odd number is21\n",
      "number is even30\n",
      "the odd number is41\n",
      "the odd number is51\n"
     ]
    }
   ],
   "source": [
    "# example\n",
    "lst=[10,21,30,41,51]\n",
    "for i in lst:\n",
    "    if i%2 == 0:\n",
    "        print(f'number is even{i}')\n",
    "    else:\n",
    "        print(f'the odd number is{i}')"
   ]
  },
  {
   "cell_type": "code",
   "execution_count": 30,
   "id": "0ad09be6",
   "metadata": {},
   "outputs": [
    {
     "name": "stdout",
     "output_type": "stream",
     "text": [
      "even numbers [10, 30]\n",
      "odd numbers [21, 41, 51]\n"
     ]
    }
   ],
   "source": [
    "# example\n",
    "lst=[10,21,30,41,51]\n",
    "even=[]\n",
    "odd=[]\n",
    "\n",
    "for i in lst:\n",
    "    if i%2 == 0:\n",
    "        even.append(i)\n",
    "        \n",
    "    else:\n",
    "        odd.append(i)\n",
    "print('even numbers',even)\n",
    "print('odd numbers',odd)"
   ]
  },
  {
   "cell_type": "code",
   "execution_count": 2,
   "id": "a9d9576f",
   "metadata": {},
   "outputs": [
    {
     "name": "stdout",
     "output_type": "stream",
     "text": [
      "(50, 60)\n"
     ]
    }
   ],
   "source": [
    "tup= (1,2,3,[4,5,6,7],[10,20,(30,40,(50,60,(70)))])\n",
    "\n",
    "print(tup[4][2][2][0:2])"
   ]
  },
  {
   "cell_type": "code",
   "execution_count": 3,
   "id": "317d176f",
   "metadata": {},
   "outputs": [
    {
     "name": "stdout",
     "output_type": "stream",
     "text": [
      "<class 'list'>\n",
      "[10, 20, 30, 40, 50]\n"
     ]
    }
   ],
   "source": [
    "# example\n",
    "\n",
    "tup =(10,20,30,40)\n",
    "\n",
    "#typecast\n",
    "tup =list(tup)\n",
    "\n",
    "print(type(tup))\n",
    "\n",
    "tup.append(50)\n",
    "\n",
    "print(tup)"
   ]
  },
  {
   "cell_type": "code",
   "execution_count": 4,
   "id": "215a69cb",
   "metadata": {},
   "outputs": [
    {
     "name": "stdout",
     "output_type": "stream",
     "text": [
      "dict_keys(['1'])\n",
      "dict_values([10])\n"
     ]
    }
   ],
   "source": [
    "# dictionary\n",
    "\n",
    "# dict ={'key1: value}\n",
    "\n",
    "d={'1':10}   #1 : key and 10 : value\n",
    "print(d.keys())\n",
    "print(d.values())"
   ]
  },
  {
   "cell_type": "code",
   "execution_count": 5,
   "id": "434d0c24",
   "metadata": {},
   "outputs": [
    {
     "name": "stdout",
     "output_type": "stream",
     "text": [
      "1000\n"
     ]
    }
   ],
   "source": [
    "d = {'India':1000,'USA':2000,'UK':3000}\n",
    "print(d['India'])"
   ]
  },
  {
   "cell_type": "code",
   "execution_count": 6,
   "id": "78491e92",
   "metadata": {},
   "outputs": [
    {
     "name": "stdout",
     "output_type": "stream",
     "text": [
      "2000\n"
     ]
    }
   ],
   "source": [
    "d = {'India':[1000,2000,3000,4000],'USA':2000,'UK':3000}\n",
    "print(d['India'][1])"
   ]
  },
  {
   "cell_type": "code",
   "execution_count": 8,
   "id": "14c3fda4",
   "metadata": {},
   "outputs": [
    {
     "name": "stdout",
     "output_type": "stream",
     "text": [
      "5\n"
     ]
    }
   ],
   "source": [
    "d = {'India':[1,2,3,[4,[5]]], 'USA':[100,200,300]}\n",
    "print(d['India'][3][1][0])"
   ]
  },
  {
   "cell_type": "code",
   "execution_count": 9,
   "id": "c96d4e6d",
   "metadata": {},
   "outputs": [
    {
     "data": {
      "text/plain": [
       "{'USA': 1000, 'India': 2000}"
      ]
     },
     "execution_count": 9,
     "metadata": {},
     "output_type": "execute_result"
    }
   ],
   "source": [
    "# example: type cast 'd' to dictionary\n",
    "d=[('USA',1000),('India',2000)]\n",
    "d=dict(d)\n",
    "d"
   ]
  },
  {
   "cell_type": "code",
   "execution_count": 10,
   "id": "7ecf7a9e",
   "metadata": {},
   "outputs": [],
   "source": [
    "d['UK'] = 3000"
   ]
  },
  {
   "cell_type": "code",
   "execution_count": 11,
   "id": "fdbcf9d9",
   "metadata": {},
   "outputs": [],
   "source": [
    "del d['UK']    #del is a keyword used for deleting the entry"
   ]
  },
  {
   "cell_type": "code",
   "execution_count": 12,
   "id": "20d882d9",
   "metadata": {},
   "outputs": [
    {
     "data": {
      "text/plain": [
       "{'USA': 1000, 'India': 2000}"
      ]
     },
     "execution_count": 12,
     "metadata": {},
     "output_type": "execute_result"
    }
   ],
   "source": [
    "d"
   ]
  },
  {
   "cell_type": "code",
   "execution_count": null,
   "id": "fe6bd962",
   "metadata": {},
   "outputs": [
    {
     "name": "stdout",
     "output_type": "stream",
     "text": [
      "<class 'set'>\n",
      "{40, 10, 20, 30}\n"
     ]
    }
   ],
   "source": [
    "# set\n",
    "\n",
    "d={1,2,3,4}\n",
    "print(type(d))\n",
    "\n",
    "d={10,10,20,30,40}\n",
    "print(d)"
   ]
  },
  {
   "cell_type": "code",
   "execution_count": 15,
   "id": "a2a3ebec",
   "metadata": {},
   "outputs": [
    {
     "name": "stdout",
     "output_type": "stream",
     "text": [
      "HELLO WELCOME TO THE PYTHON PROGRAMMING\n",
      "hello welcome to the python programming\n",
      "Hello welcome to the python programming\n",
      "False\n",
      "False\n",
      "False\n"
     ]
    }
   ],
   "source": [
    "# string\n",
    "\n",
    "str ='Hello Welcome to the Python Programming'\n",
    "\n",
    "print(str.upper())\n",
    "print(str.lower())\n",
    "print(str.capitalize())\n",
    "print(str.isalnum())\n",
    "print(str.isalpha())\n",
    "print(str.islower())"
   ]
  },
  {
   "cell_type": "code",
   "execution_count": 16,
   "id": "23f222ef",
   "metadata": {},
   "outputs": [
    {
     "name": "stdout",
     "output_type": "stream",
     "text": [
      "Bucket1: ['hello', 'World', 'python', 'programming']\n",
      "Bucket2: ['of']\n"
     ]
    }
   ],
   "source": [
    "# example\n",
    "str =['hello','World', 'of','python','programming']\n",
    "\n",
    "bucket1= []\n",
    "bucket2= []\n",
    "\n",
    "for i in str:\n",
    "    if len(i) > 4:\n",
    "        bucket1.append(i)\n",
    "    else:\n",
    "        bucket2.append(i)\n",
    "        \n",
    "print('Bucket1:',bucket1)\n",
    "print('Bucket2:',bucket2)"
   ]
  },
  {
   "cell_type": "code",
   "execution_count": 17,
   "id": "4d141359",
   "metadata": {},
   "outputs": [
    {
     "name": "stdout",
     "output_type": "stream",
     "text": [
      "2 4 6 8 10 12 14 16 18 20 "
     ]
    }
   ],
   "source": [
    "# # Multiplication table of 2 (only numbers)\n",
    "#output 2 4  6 8\n",
    "\n",
    "num = 2\n",
    "for i in range(1, 11):\n",
    "    print(num * i, end=\" \")"
   ]
  },
  {
   "cell_type": "code",
   "execution_count": null,
   "id": "227e71ea",
   "metadata": {},
   "outputs": [
    {
     "name": "stdout",
     "output_type": "stream",
     "text": [
      "[2, 4, 6, 8, 10, 12, 14, 16, 18, 20]\n"
     ]
    },
    {
     "ename": "",
     "evalue": "",
     "output_type": "error",
     "traceback": [
      "\u001b[1;31mThe Kernel crashed while executing code in the current cell or a previous cell. \n",
      "\u001b[1;31mPlease review the code in the cell(s) to identify a possible cause of the failure. \n",
      "\u001b[1;31mClick <a href='https://aka.ms/vscodeJupyterKernelCrash'>here</a> for more info. \n",
      "\u001b[1;31mView Jupyter <a href='command:jupyter.viewOutput'>log</a> for further details."
     ]
    }
   ],
   "source": [
    "num=[]\n",
    "def sqaure():\n",
    "\n",
    "    for i in range(1,21):\n",
    "        if i%2 ==0:\n",
    "            num.append(i)\n",
    "    \n",
    "    return num\n",
    "num = sqaure()\n",
    "print(num)\n",
    "            "
   ]
  },
  {
   "cell_type": "code",
   "execution_count": null,
   "id": "f53d6258",
   "metadata": {},
   "outputs": [
    {
     "name": "stdout",
     "output_type": "stream",
     "text": [
      "300\n"
     ]
    }
   ],
   "source": [
    "# function definiation: UDF (user defined function)\n",
    "\n",
    "# 1.  user defined function (udf) without parameters\n",
    "\n",
    "def add():\n",
    "    num1 =100   #parameter1\n",
    "    num2 =200   #parameter2\n",
    "    \n",
    "    return num1+num2   #return an expression\n",
    "\n",
    "print(add())    #function calling"
   ]
  },
  {
   "cell_type": "code",
   "execution_count": 3,
   "id": "ff5730d8",
   "metadata": {},
   "outputs": [
    {
     "name": "stdout",
     "output_type": "stream",
     "text": [
      "300\n"
     ]
    }
   ],
   "source": [
    "# 2. User defined function (udf) with paramters\n",
    "\n",
    "def add(num1,num2): # functiom definition with parameters\n",
    "    num3= num1+num2  #expression\n",
    "    return num3  #return expression value\n",
    "\n",
    "ans= add(100,200) #function calling  \n",
    "print(ans)"
   ]
  },
  {
   "cell_type": "code",
   "execution_count": 7,
   "id": "95474393",
   "metadata": {},
   "outputs": [
    {
     "name": "stdout",
     "output_type": "stream",
     "text": [
      "The asnwer is: 300\n"
     ]
    }
   ],
   "source": [
    "# 3. user defined function (udf) with parametrs\n",
    "\n",
    "def add(num1,num2):\n",
    "    num3 = num1 + num2\n",
    "    print('The asnwer is:',num3)\n",
    "\n",
    "add(100,200)"
   ]
  },
  {
   "cell_type": "code",
   "execution_count": 10,
   "id": "8f30f6d6",
   "metadata": {},
   "outputs": [
    {
     "name": "stdout",
     "output_type": "stream",
     "text": [
      "The addition of two number2.0 and 2.0 is 4.0\n"
     ]
    }
   ],
   "source": [
    "# write a calculator program using concept of udf\n",
    "\n",
    "number1 = float(input(\"enter the first number: \"))\n",
    "number2 = float(input(\"enter the second number: \"))\n",
    "choice = input(\"enter the choice: 1/2/3/4\")\n",
    "\n",
    "def add(number1,number2):\n",
    "    number3 =number1+ number2\n",
    "    return number3\n",
    "\n",
    "def sub(number1,number2):\n",
    "    number3 =number1 -number2\n",
    "    return number3\n",
    "\n",
    "def mul(number1,number2):\n",
    "    number3 =number1 * number2\n",
    "    return number3\n",
    "\n",
    "if choice == '1':\n",
    "    ans = add(number1,number2)\n",
    "    print(f'The addition of two number{number1} and {number2} is {ans}')\n",
    "\n",
    "elif choice =='2':\n",
    "    ans = sub(number1,number2)\n",
    "    print(f'The subtraction of two number{number1} and {number2} is {ans}')\n",
    "\n",
    "elif choice =='3':\n",
    "    ans = mul(number1,number2)\n",
    "    print(f'The multiplication of two number{number1} and {number2} is {ans}')\n",
    "\n",
    "\n",
    "\n",
    "\n",
    "\n",
    "\n"
   ]
  },
  {
   "cell_type": "code",
   "execution_count": null,
   "id": "b9765e07",
   "metadata": {},
   "outputs": [
    {
     "name": "stdout",
     "output_type": "stream",
     "text": [
      "30\n",
      "[2, 4, 6, 8, 10]\n"
     ]
    }
   ],
   "source": [
    "# lst = [2 4 6 8 10] even\n",
    "# sum = 30\n",
    "\n",
    "def compute():\n",
    "    lst =[]\n",
    "    sum =0\n",
    "\n",
    "    for i in range(1,11):\n",
    "        if i%2 == 0:\n",
    "            lst.append(i)\n",
    "            sum = sum + i\n",
    "    return sum,lst\n",
    "\n",
    "sum,lst = compute()\n",
    "print(sum)\n",
    "print(lst)\n",
    "        \n"
   ]
  },
  {
   "cell_type": "code",
   "execution_count": 16,
   "id": "508028c8",
   "metadata": {},
   "outputs": [
    {
     "name": "stdout",
     "output_type": "stream",
     "text": [
      "25\n",
      "[1, 3, 5, 7, 9]\n"
     ]
    }
   ],
   "source": [
    "# lst = [2 4 6 8 10] odd\n",
    "# sum = 30\n",
    "\n",
    "def compute():\n",
    "    lst =[]\n",
    "    sum =0\n",
    "\n",
    "    for i in range(1,11):\n",
    "        if i%2 != 0:\n",
    "            lst.append(i)\n",
    "            sum = sum + i\n",
    "    return sum,lst\n",
    "\n",
    "sum,lst = compute()\n",
    "print(sum)\n",
    "print(lst)\n",
    "        \n"
   ]
  },
  {
   "cell_type": "code",
   "execution_count": 20,
   "id": "68f1b07b",
   "metadata": {},
   "outputs": [
    {
     "name": "stdout",
     "output_type": "stream",
     "text": [
      "100\n"
     ]
    }
   ],
   "source": [
    "num = 100  #variable definition\n",
    "def test(): #fuction definition\n",
    "    global num  #global variable defination\n",
    "    num = 3000  #local variable defination\n",
    "print(num)\n",
    "\n",
    "test()  #function calling\n"
   ]
  },
  {
   "cell_type": "code",
   "execution_count": 1,
   "id": "9b6d7ff0",
   "metadata": {},
   "outputs": [
    {
     "data": {
      "text/plain": [
       "24.0"
      ]
     },
     "execution_count": 1,
     "metadata": {},
     "output_type": "execute_result"
    }
   ],
   "source": [
    "#Fibbonacci series: 0 1 1 2 3 5 8 13...... \n",
    "#factorial series: 4! = 4*3*2*1 = 24\n",
    "\n",
    "def factorial(n):\n",
    "    \n",
    "    if n==0 or n==1:\n",
    "        return 1\n",
    "    else:\n",
    "        return n* factorial(n-1)\n",
    "   \n",
    "number=float(input(\"Enter the number\"))\n",
    "factorial(number)"
   ]
  },
  {
   "cell_type": "code",
   "execution_count": null,
   "id": "1ab58b87",
   "metadata": {},
   "outputs": [
    {
     "name": "stdout",
     "output_type": "stream",
     "text": [
      "0 1 1 2 3 5 8 13 21 34 "
     ]
    }
   ],
   "source": [
    "a, b = 0, 1\n",
    "\n",
    "while True:\n",
    "    print(a, end=\" \")\n",
    "    a, b = b, a + b\n",
    "    if a > 50:   # stop when Fibonacci number goes above 50\n",
    "        break"
   ]
  },
  {
   "cell_type": "code",
   "execution_count": 5,
   "id": "901d0118",
   "metadata": {},
   "outputs": [
    {
     "name": "stdout",
     "output_type": "stream",
     "text": [
      "0 1 1 2 3 5 8 13 21 34 55 89 "
     ]
    }
   ],
   "source": [
    "def fibonnaci(nth):\n",
    "    a, b = 0, 1\n",
    "    for i in range(nth):   # prints first 10 numbers\n",
    "        print(a, end=\" \")\n",
    "        a, b = b, a + b\n",
    "\n",
    "num = int(input(\"Enter the Nth number for fibonnacci series :\"))  \n",
    "fibonnaci(num)"
   ]
  },
  {
   "cell_type": "code",
   "execution_count": 4,
   "id": "d7bd59d7",
   "metadata": {},
   "outputs": [
    {
     "name": "stdout",
     "output_type": "stream",
     "text": [
      "0 1 1 2 3 5 8 13 21 34 55 89 "
     ]
    }
   ],
   "source": [
    "n = int(input(\"Enter number of terms: \"))\n",
    "\n",
    "a, b = 0, 1\n",
    "for i in range(n):\n",
    "    if i == 0:\n",
    "        print(a, end=\" \")\n",
    "    elif i == 1:\n",
    "        print(b, end=\" \")\n",
    "    else:\n",
    "        c = a + b\n",
    "        print(c, end=\" \")\n",
    "        a, b = b, c"
   ]
  },
  {
   "cell_type": "code",
   "execution_count": 2,
   "id": "39a44027",
   "metadata": {},
   "outputs": [],
   "source": [
    "class employee:\n",
    "    pass\n",
    "\n",
    "\n",
    "emp1 = employee()  #object defination\n",
    "emp2 = employee()  #object definition"
   ]
  },
  {
   "cell_type": "code",
   "execution_count": 3,
   "id": "b4fc7b41",
   "metadata": {},
   "outputs": [
    {
     "name": "stdout",
     "output_type": "stream",
     "text": [
      "<class '__main__.employee'>\n"
     ]
    }
   ],
   "source": [
    "print(type(emp1))"
   ]
  },
  {
   "cell_type": "code",
   "execution_count": 5,
   "id": "b324a8d1",
   "metadata": {},
   "outputs": [
    {
     "name": "stdout",
     "output_type": "stream",
     "text": [
      "It Vedant\n",
      "1990\n",
      "Gaurav\n",
      "Finance\n"
     ]
    }
   ],
   "source": [
    "class Employee:\n",
    "    \n",
    "    #define attributes\n",
    "    Company_Name = \"It Vedant\"\n",
    "    Company_Est = \"1990\"\n",
    "    \n",
    "    #define construtor\n",
    "    def __init__ (self,Name,Age,Position):\n",
    "        self.Name = Name \n",
    "        self.Age = Age \n",
    "        self.Position = Position \n",
    "        \n",
    "emp1 = Employee(\"Gaurav\",25,\"IT\")  #object deffinition \n",
    "emp2 = Employee(\"Sangam\",30,\"Finance\")  #object definition \n",
    "\n",
    "print(emp1.Company_Name)  #Calling attribute Company_Name by an object emp1 by using .Operator \n",
    "print(emp2.Company_Est)\n",
    "print(emp1.Name)\n",
    "print(emp2.Position)\n",
    "\n"
   ]
  },
  {
   "cell_type": "code",
   "execution_count": 11,
   "id": "35404e6f",
   "metadata": {},
   "outputs": [
    {
     "name": "stdout",
     "output_type": "stream",
     "text": [
      "name : sakshi\n",
      "name : pragya\n",
      "Age : 25\n"
     ]
    }
   ],
   "source": [
    "class Employee:   #class definition\n",
    "    # define  Attributes : #class variable\n",
    "    Company_Name = \"It Vedant\"\n",
    "    Company_Est = \"1900\"\n",
    "    \n",
    "    #define instance method : with instance variable\n",
    "    def __init__(self,Name,Age,Position):\n",
    "            self.Name = Name \n",
    "            self.Age = Age \n",
    "            self.Position = Position \n",
    "    # define class method :with class variable\n",
    "    def details(self):\n",
    "        print(f'name : {self.Name}')\n",
    "    def age1(self):\n",
    "        print(f'Age : {self.Age}')\n",
    "        \n",
    "#create two objects: emplyee and manager\n",
    "employee = Employee(\"sakshi\",25,\"manager\")\n",
    "manager = Employee(\"pragya\",29,\"It\")\n",
    "\n",
    "employee.details()\n",
    "manager.details()\n",
    "employee.age1()\n",
    "            "
   ]
  },
  {
   "cell_type": "code",
   "execution_count": 7,
   "id": "08d25e52",
   "metadata": {},
   "outputs": [],
   "source": [
    "class Employee: # parent class\n",
    "    # define Special Function: constructor\n",
    "    def __init__(self,name,age,position):\n",
    "        #define Instance Variables\n",
    "        self.name = name\n",
    "        self.age = age\n",
    "        self.position = position\n",
    "        \n",
    "    #Define Class Method : DEtails\n",
    "    def details(self):\n",
    "        print(f'name: {self.name}')\n",
    "    \n",
    "class Manager(Employee):  #child class\n",
    "        \n",
    "        #Define Special Function :constructor\n",
    "        def __init__(self,name,age,position,department):\n",
    "            super().__init__(name,age,position)   #calling instance and method using super()\n",
    "            self.department = department\n",
    "            \n",
    "            #define class method : Department details\n",
    "        def department_details(self):\n",
    "            print(f'name:{self.name}')\n",
    "            print(f'department:{self.department}')\n",
    "        \n",
    "    #define objects:\n",
    "    \n",
    "m1 = Employee(\"Vishal\",29,\"HR\")\n",
    "m2 = Manager(\"pragya\",\"26\",\"senior team lead\",\"HR\")\n",
    "    "
   ]
  },
  {
   "cell_type": "code",
   "execution_count": 9,
   "id": "29cdad05",
   "metadata": {},
   "outputs": [
    {
     "name": "stdout",
     "output_type": "stream",
     "text": [
      "Vishal\n",
      "name: Vishal\n",
      "None\n",
      "pragya\n"
     ]
    }
   ],
   "source": [
    "print(m1.name)\n",
    "print(m1.details())\n",
    "print(m2.name)"
   ]
  },
  {
   "cell_type": "code",
   "execution_count": 14,
   "id": "b5039eb9",
   "metadata": {},
   "outputs": [
    {
     "name": "stdout",
     "output_type": "stream",
     "text": [
      "petrol\n"
     ]
    }
   ],
   "source": [
    "class car:  #parent class\n",
    "    \n",
    "    # define constructor\n",
    "    def __init__(self,enginetype,color,wheels):\n",
    "        self.wheels = wheels\n",
    "        self.colour = color\n",
    "        self.enginetype = enginetype\n",
    "        \n",
    "    #class function : method\n",
    "    def mileage(self):\n",
    "        self.mileage = 30\n",
    "        print(self.mileage)\n",
    "        \n",
    "        \n",
    "\n",
    "\n",
    "class PetrolCar(car):   #child class\n",
    "    def __init__(self,enginetype,wheels,color):\n",
    "        super()._init_(self,enginetype,wheels,color)\n",
    "        self.enginetype =\"Petrol\"\n",
    "        self.wheels =\"4\"\n",
    "        self.color =\"Red\"\n",
    "        \n",
    "    def Sound(self):\n",
    "        print('peeeeeep')\n",
    "        \n",
    "        \n",
    "        \n",
    "class DiselCar(car):   #child class\n",
    "    def __init__(self,enginetype,wheels,color):\n",
    "        super()._init_(self,enginetype,wheels,color)\n",
    "        self.enginetype =\"Disel\"\n",
    "        self.wheels = \"4\"\n",
    "        self.color = \"White\"\n",
    "        \n",
    "    def Sound(self):\n",
    "        print('Pooooompp')\n",
    "        \n",
    "class EVCar(car):    #child class\n",
    "    def __init__(self,enginetype,wheels,color):\n",
    "        super()._init_(self,enginetype,wheels,color)\n",
    "        self.enginetype =\"Battery Operated\"\n",
    "        self.wheels = \"4\"\n",
    "        self.color = \"Blue\"\n",
    "        \n",
    "    def Sound(self):\n",
    "        print(\"No Sound...\")\n",
    "        \n",
    "#object :BMW\n",
    "BMW = car(\"petrol\" ,\"black\", 4)\n",
    "\n",
    "print(BMW.enginetype)"
   ]
  },
  {
   "cell_type": "code",
   "execution_count": 15,
   "id": "a262aa91",
   "metadata": {},
   "outputs": [
    {
     "name": "stdout",
     "output_type": "stream",
     "text": [
      "5000 withdrawn + ₹100.0 tax (2%) applied.\n",
      "Vaibhav (NRI Account) - Current Balance: ₹94900.0\n",
      "\n",
      "10000 deposited with ₹100.0 bonus interest.\n",
      "Sangam (Saving Account) - Current Balance: ₹110100.0\n",
      "\n",
      "110000 withdrawn (Overdraft limit applied if needed).\n",
      "Gaurav (Current Account) - Current Balance: ₹-10000\n",
      "\n"
     ]
    }
   ],
   "source": [
    "'''  \n",
    "class Bank:\n",
    "    #class variable :\n",
    "    1. Balance_amount =  100000\n",
    "    2. credited_Amount\n",
    "    3. withdraw_amount \n",
    "    \n",
    "# Different Account types\n",
    "1. NRI Account\n",
    "2. Saving Account\n",
    "3. Current Account\n",
    "\n",
    "# Objects:\n",
    "1. vaibhav : NRI ACC\n",
    "2. Sangam : Saving Acc\n",
    "3. Gaurav : Current Acc\n",
    "'''\n",
    "\n",
    "# Base Class\n",
    "class Bank:\n",
    "    def __init__(self, name, acc_type, balance=100000):\n",
    "        self.name = name\n",
    "        self.acc_type = acc_type\n",
    "        self.balance = balance\n",
    "\n",
    "    def show_balance(self):\n",
    "        print(f\"{self.name} ({self.acc_type}) - Current Balance: ₹{self.balance}\\n\")\n",
    "\n",
    "    def deposit(self, amount):\n",
    "        self.balance += amount\n",
    "        print(f\"{amount} credited to {self.name}'s account.\")\n",
    "        self.show_balance()\n",
    "\n",
    "    def withdraw(self, amount):\n",
    "        if amount <= self.balance:\n",
    "            self.balance -= amount\n",
    "            print(f\"{amount} withdrawn from {self.name}'s account.\")\n",
    "        else:\n",
    "            print(f\"Insufficient funds in {self.name}'s account!\")\n",
    "        self.show_balance()\n",
    "\n",
    "\n",
    "# Child Class 1 - NRI Account\n",
    "class NRIAccount(Bank):\n",
    "    def __init__(self, name):\n",
    "        super().__init__(name, \"NRI Account\")\n",
    "    \n",
    "    # Override withdraw (e.g., with extra tax)\n",
    "    def withdraw(self, amount):\n",
    "        tax = amount * 0.02   # 2% tax on NRI withdrawal\n",
    "        total = amount + tax\n",
    "        if total <= self.balance:\n",
    "            self.balance -= total\n",
    "            print(f\"{amount} withdrawn + ₹{tax} tax (2%) applied.\")\n",
    "        else:\n",
    "            print(\"Insufficient funds for withdrawal including tax.\")\n",
    "        self.show_balance()\n",
    "\n",
    "\n",
    "# Child Class 2 - Saving Account\n",
    "class SavingAccount(Bank):\n",
    "    def __init__(self, name):\n",
    "        super().__init__(name, \"Saving Account\")\n",
    "\n",
    "    # Special interest for deposit\n",
    "    def deposit(self, amount):\n",
    "        bonus = amount * 0.01   # 1% bonus interest\n",
    "        total = amount + bonus\n",
    "        self.balance += total\n",
    "        print(f\"{amount} deposited with ₹{bonus} bonus interest.\")\n",
    "        self.show_balance()\n",
    "\n",
    "\n",
    "# Child Class 3 - Current Account\n",
    "class CurrentAccount(Bank):\n",
    "    def __init__(self, name):\n",
    "        super().__init__(name, \"Current Account\")\n",
    "\n",
    "    # Overdraft allowed up to ₹20,000\n",
    "    def withdraw(self, amount):\n",
    "        if amount <= self.balance + 20000:\n",
    "            self.balance -= amount\n",
    "            print(f\"{amount} withdrawn (Overdraft limit applied if needed).\")\n",
    "        else:\n",
    "            print(\"Overdraft limit exceeded!\")\n",
    "        self.show_balance()\n",
    "\n",
    "\n",
    "# Creating Objects\n",
    "vaibhav = NRIAccount(\"Vaibhav\")\n",
    "sangam = SavingAccount(\"Sangam\")\n",
    "gaurav = CurrentAccount(\"Gaurav\")\n",
    "\n",
    "# Perform Transactions\n",
    "vaibhav.withdraw(5000)\n",
    "sangam.deposit(10000)\n",
    "gaurav.withdraw(110000)\n"
   ]
  },
  {
   "cell_type": "code",
   "execution_count": 2,
   "id": "ddc155fb",
   "metadata": {},
   "outputs": [
    {
     "name": "stdout",
     "output_type": "stream",
     "text": [
      "---- Students Details ----\n",
      "Student Name: Pragyaa\n",
      "Student ID: S101\n",
      "Course: Data Analytics\n",
      "Duration: 6 Months\n",
      "Experience: Beginner\n",
      "------------------------------\n",
      "Student Name: Vaibhav\n",
      "Student ID: S102\n",
      "Course: Python Programming\n",
      "Duration: 4 Months\n",
      "Experience: Intermediate\n",
      "------------------------------\n",
      "---- Trainer Details ----\n",
      "Trainer Name: Sangam\n",
      "Trainer ID: T201\n",
      "Course: Data Analytics\n",
      "Duration: 6 Months\n",
      "Experience: 5 Years\n",
      "------------------------------\n",
      "Trainer Name: Gaurav\n",
      "Trainer ID: T202\n",
      "Course: Python Programming\n",
      "Duration: 4 Months\n",
      "Experience: 3 Years\n",
      "------------------------------\n"
     ]
    }
   ],
   "source": [
    "'''\n",
    "class ITV:\n",
    "      constructor\n",
    "      - name\n",
    "      - student_id\n",
    "      - course\n",
    "      - duration\n",
    "      - experience\n",
    "      \n",
    "class student(ITV)\n",
    "    details()\n",
    "class trainer(ITV)\n",
    "    details()\n",
    "    \n",
    "    \n",
    "define  :\n",
    "   - 2 students object\n",
    "    -2 trainer object\n",
    "\n",
    "\n",
    "'''\n",
    "\n",
    "# Base class\n",
    "class ITV:\n",
    "    def __init__(self, name, student_id, course, duration, experience):\n",
    "        self.name = name\n",
    "        self.student_id = student_id\n",
    "        self.course = course\n",
    "        self.duration = duration\n",
    "        self.experience = experience\n",
    "\n",
    "# Derived class for Students\n",
    "class Students(ITV):\n",
    "    def details(self):\n",
    "        print(f\"Student Name: {self.name}\")\n",
    "        print(f\"Student ID: {self.student_id}\")\n",
    "        print(f\"Course: {self.course}\")\n",
    "        print(f\"Duration: {self.duration}\")\n",
    "        print(f\"Experience: {self.experience}\")\n",
    "        print(\"-\" * 30)\n",
    "\n",
    "# Derived class for Trainer\n",
    "class Trainer(ITV):\n",
    "    def details(self):\n",
    "        print(f\"Trainer Name: {self.name}\")\n",
    "        print(f\"Trainer ID: {self.student_id}\")\n",
    "        print(f\"Course: {self.course}\")\n",
    "        print(f\"Duration: {self.duration}\")\n",
    "        print(f\"Experience: {self.experience}\")\n",
    "        print(\"-\" * 30)\n",
    "\n",
    "# Creating 2 student objects\n",
    "student1 = Students(\"Pragyaa\", \"S101\", \"Data Analytics\", \"6 Months\", \"Beginner\")\n",
    "student2 = Students(\"Vaibhav\", \"S102\", \"Python Programming\", \"4 Months\", \"Intermediate\")\n",
    "\n",
    "# Creating 2 trainer objects\n",
    "trainer1 = Trainer(\"Sangam\", \"T201\", \"Data Analytics\", \"6 Months\", \"5 Years\")\n",
    "trainer2 = Trainer(\"Gaurav\", \"T202\", \"Python Programming\", \"4 Months\", \"3 Years\")\n",
    "\n",
    "# Displaying details\n",
    "print(\"---- Students Details ----\")\n",
    "student1.details()\n",
    "student2.details()\n",
    "\n",
    "print(\"---- Trainer Details ----\")\n",
    "trainer1.details()\n",
    "trainer2.details()\n",
    "\n",
    "    "
   ]
  },
  {
   "cell_type": "code",
   "execution_count": 3,
   "id": "51b1fd14",
   "metadata": {},
   "outputs": [
    {
     "name": "stdout",
     "output_type": "stream",
     "text": [
      "6\n",
      "5\n",
      "5.0\n",
      "5.0\n",
      "625.0\n",
      "120\n",
      "1.0\n",
      "30.0\n",
      "1.4771212547196624\n"
     ]
    }
   ],
   "source": [
    "# IN build modules in python programming\n",
    "\n",
    "import math\n",
    "\n",
    "a= math.ceil(5.5)\n",
    "print(a)\n",
    "\n",
    "a= math.floor(5.5)\n",
    "print(a)\n",
    "\n",
    "a= math.sqrt(25)\n",
    "print(a)\n",
    "\n",
    "a= 25**0.5\n",
    "print(a)\n",
    "\n",
    "a= math.pow(25,2)\n",
    "print(a)\n",
    "\n",
    "a= math.factorial(5)\n",
    "print(a)\n",
    "\n",
    "a= math.cos(0)\n",
    "print(a)\n",
    "\n",
    "a=math.fabs(-30)\n",
    "print(a)\n",
    "\n",
    "a= math.log10(30)\n",
    "print(a)"
   ]
  },
  {
   "cell_type": "code",
   "execution_count": null,
   "id": "d225f8ac",
   "metadata": {},
   "outputs": [],
   "source": [
    "# error code \n",
    "\n",
    "class Dog:\n",
    "    tricks = []                    #mistaken use of class variable\n",
    "    def __init__(self,name):\n",
    "        self.name =name\n",
    "        \n",
    "    def add_trick(self,trick):\n",
    "        \n",
    "    d = Dog ('fiddo')\n",
    "    e = Dog ('buddy')\n",
    "    d.add_trick ('roll over')\n",
    "    e.add_tricks ('play dead')\n",
    "    d.tricks                           #\n",
    "    ['roll over', 'play dead']\n"
   ]
  },
  {
   "cell_type": "code",
   "execution_count": 7,
   "id": "553ad138",
   "metadata": {},
   "outputs": [
    {
     "data": {
      "text/plain": [
       "['roll over']"
      ]
     },
     "execution_count": 7,
     "metadata": {},
     "output_type": "execute_result"
    }
   ],
   "source": [
    "class Dog:\n",
    "    def __init__(self,name):\n",
    "        self.name = name\n",
    "        self.tricks = []\n",
    "        \n",
    "    def add_trick(self, tricks):\n",
    "        self.tricks.append(tricks)\n",
    "     \n",
    "d = Dog ('fiddo')\n",
    "e = Dog ('buddy')\n",
    "d.add_trick ('roll over')\n",
    "e.add_trick ('play dead')\n",
    "d.tricks          "
   ]
  },
  {
   "cell_type": "code",
   "execution_count": 8,
   "id": "34b39b85",
   "metadata": {},
   "outputs": [
    {
     "name": "stdout",
     "output_type": "stream",
     "text": [
      "[0, 1, 4, 9, 16, 25, 36, 49, 64, 81]\n"
     ]
    }
   ],
   "source": [
    "# list comprehnsion\n",
    "lst =[]\n",
    "for i in range(10):\n",
    "    lst.append(i*i)\n",
    "    \n",
    "print(lst)"
   ]
  },
  {
   "cell_type": "code",
   "execution_count": 9,
   "id": "967b01a2",
   "metadata": {},
   "outputs": [
    {
     "name": "stdout",
     "output_type": "stream",
     "text": [
      "[0, 1, 4, 9, 16, 25, 36, 49, 64, 81]\n"
     ]
    }
   ],
   "source": [
    "'''\n",
    "logic: [<experience> for interator(i) in range(10)]\n",
    "\n",
    "'''\n",
    "print([i*i for i in range(10)])"
   ]
  },
  {
   "cell_type": "code",
   "execution_count": 10,
   "id": "35b24807",
   "metadata": {},
   "outputs": [
    {
     "name": "stdout",
     "output_type": "stream",
     "text": [
      "[0, 2, 4, 6, 8, 10]\n"
     ]
    }
   ],
   "source": [
    "# (0 2 4 6 8 10...)\n",
    "\n",
    "lst = []\n",
    "for i in range(12):\n",
    "    if i%2 ==0:\n",
    "        lst.append(i)\n",
    "        \n",
    "print(lst)"
   ]
  },
  {
   "cell_type": "code",
   "execution_count": 11,
   "id": "925cae77",
   "metadata": {},
   "outputs": [
    {
     "data": {
      "text/plain": [
       "[0, 2, 4, 6, 8, 10]"
      ]
     },
     "execution_count": 11,
     "metadata": {},
     "output_type": "execute_result"
    }
   ],
   "source": [
    "#Example of list Comprehension\n",
    "#syntax: [<expression> for i in range(12) <condition>]\n",
    "[i for i in range(12) if i%2 == 0]"
   ]
  },
  {
   "cell_type": "code",
   "execution_count": 12,
   "id": "767a3bd9",
   "metadata": {},
   "outputs": [
    {
     "data": {
      "text/plain": [
       "['APPLES', 'PINEAPPLE', 'GRAPES']"
      ]
     },
     "execution_count": 12,
     "metadata": {},
     "output_type": "execute_result"
    }
   ],
   "source": [
    "fruits = ['apples','pineapple','grapes']\n",
    "[i.upper()  for i in fruits]"
   ]
  }
 ],
 "metadata": {
  "kernelspec": {
   "display_name": "Python 3",
   "language": "python",
   "name": "python3"
  },
  "language_info": {
   "codemirror_mode": {
    "name": "ipython",
    "version": 3
   },
   "file_extension": ".py",
   "mimetype": "text/x-python",
   "name": "python",
   "nbconvert_exporter": "python",
   "pygments_lexer": "ipython3",
   "version": "3.12.11"
  }
 },
 "nbformat": 4,
 "nbformat_minor": 5
}
