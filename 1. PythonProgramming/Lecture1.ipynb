{
 "cells": [
  {
   "cell_type": "code",
   "execution_count": 1,
   "id": "fb04ca6a",
   "metadata": {},
   "outputs": [
    {
     "name": "stdout",
     "output_type": "stream",
     "text": [
      "<class 'int'>\n",
      "<class 'float'>\n",
      "<class 'complex'>\n",
      "200\n"
     ]
    }
   ],
   "source": [
    "#Single Line comment\n",
    "# datatype in pytgon programming\n",
    "'''\n",
    "1. Int \n",
    "2. Float \n",
    "3. Complex \n",
    "4. String \n",
    "5. Boolean \n",
    "6. list \n",
    "7. tuple \n",
    "8. set \n",
    "9. dict \n",
    "10. class : Custom Datatype\n",
    "'''\n",
    "number = 100\n",
    "number1 = 23.456 \n",
    "number2 = 2 + 3j\n",
    "\n",
    "\n",
    "print(type(number))\n",
    "print(type(number1))\n",
    "print(type(number2))\n",
    "\n",
    "# variable Desfination\n",
    "\n",
    "x=10 #single variable assigment\n",
    "x,y = 1000,2000\n",
    "x,y,z,_ = 1,2,3,4  #multiple variable assignment\n",
    "_,a,b,c = 10,20,30,40\n",
    "\n",
    "num=100\n",
    "\n",
    "num1 = 2\n",
    "\n",
    "num2 = num * num1\n",
    "print(num2)\n",
    "\n",
    "\n"
   ]
  },
  {
   "cell_type": "code",
   "execution_count": 2,
   "id": "16858a51",
   "metadata": {},
   "outputs": [
    {
     "data": {
      "text/plain": [
       "'\\n1. Special character are not allowed at the prefix of variable.\\nexample: 123num : not allowed X\\n2. the variable defination should contain any special character or space.\\nexample: Primary Number : not allowed X\\n\\n\\n'"
      ]
     },
     "execution_count": 2,
     "metadata": {},
     "output_type": "execute_result"
    }
   ],
   "source": [
    "Integer_number =100\n",
    "#Rules for variable defination\n",
    "'''\n",
    "1. Special character are not allowed at the prefix of variable.\n",
    "example: 123num : not allowed X\n",
    "2. the variable defination should contain any special character or space.\n",
    "example: Primary Number : not allowed X\n",
    "\n",
    "\n",
    "'''"
   ]
  },
  {
   "cell_type": "code",
   "execution_count": 3,
   "id": "7a1eab50",
   "metadata": {},
   "outputs": [
    {
     "name": "stdout",
     "output_type": "stream",
     "text": [
      "heyy\n",
      "300\n"
     ]
    }
   ],
   "source": [
    "# print Function\n",
    "\n",
    "print('heyy')\n",
    "print(100+200)"
   ]
  },
  {
   "cell_type": "code",
   "execution_count": 8,
   "id": "fd2cb6f0",
   "metadata": {},
   "outputs": [
    {
     "name": "stdout",
     "output_type": "stream",
     "text": [
      "The Output of Two Mathematical Number Operation 300.0\n",
      "The Output of Two Mathematical Number Operation 300.0\n",
      "The Output of Two Mathematical Number Operation 300.0\n"
     ]
    }
   ],
   "source": [
    "# example: simple calculator\n",
    "\n",
    "'''\n",
    "logic:\n",
    "step1: ask user to enter the two values\n",
    "step2: perform mathematical operation\n",
    "step3: print the output\n",
    "\n",
    "'''\n",
    "num1 = float(input('enter the first value:'))     # type casted to float\n",
    "num2 = float(input('enter the second value:'))     # type casted to float\n",
    "\n",
    "num3= num1 + num2\n",
    "\n",
    "print('The Output of Two Mathematical Number Operation',num3)\n",
    "print(f'The Output of Two Mathematical Number Operation {num3}')\n",
    "print(f'The Output of Two Mathematical Number Operation {num3}'.format(num3))"
   ]
  },
  {
   "cell_type": "code",
   "execution_count": null,
   "id": "28c6f5c1",
   "metadata": {},
   "outputs": [
    {
     "data": {
      "text/plain": [
       "'l'"
      ]
     },
     "execution_count": 9,
     "metadata": {},
     "output_type": "execute_result"
    }
   ],
   "source": [
    "#concept of indexing and slicing\n",
    "\n",
    "str = 'Hello Welcome to the World of Python Programming.'\n",
    "\n",
    "str[3]\n",
    "\n",
    "'''\n",
    "note: \n",
    "string indexing : string[start:stop:step]\n",
    "\n",
    "'''\n",
    "print(str[1:10:1])"
   ]
  }
 ],
 "metadata": {
  "kernelspec": {
   "display_name": "Python 3",
   "language": "python",
   "name": "python3"
  },
  "language_info": {
   "codemirror_mode": {
    "name": "ipython",
    "version": 3
   },
   "file_extension": ".py",
   "mimetype": "text/x-python",
   "name": "python",
   "nbconvert_exporter": "python",
   "pygments_lexer": "ipython3",
   "version": "3.12.11"
  }
 },
 "nbformat": 4,
 "nbformat_minor": 5
}
