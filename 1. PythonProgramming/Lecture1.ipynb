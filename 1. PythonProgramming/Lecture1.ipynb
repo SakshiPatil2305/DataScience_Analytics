{
 "cells": [
  {
   "cell_type": "code",
   "execution_count": 16,
   "id": "fb04ca6a",
   "metadata": {},
   "outputs": [
    {
     "name": "stdout",
     "output_type": "stream",
     "text": [
      "<class 'int'>\n",
      "<class 'float'>\n",
      "<class 'complex'>\n",
      "200\n"
     ]
    }
   ],
   "source": [
    "#Single Line comment\n",
    "# datatype in pytgon programming\n",
    "'''\n",
    "1. Int \n",
    "2. Float \n",
    "3. Complex \n",
    "4. String \n",
    "5. Boolean \n",
    "6. list \n",
    "7. tuple \n",
    "8. set \n",
    "9. dict \n",
    "10. class : Custom Datatype\n",
    "'''\n",
    "number = 100\n",
    "number1 = 23.456 \n",
    "number2 = 2 + 3j\n",
    "\n",
    "\n",
    "print(type(number))\n",
    "print(type(number1))\n",
    "print(type(number2))\n",
    "\n",
    "# variable Desfination\n",
    "\n",
    "x=10 #single variable assigment\n",
    "x,y = 1000,2000\n",
    "x,y,z,_ = 1,2,3,4  #multiple variable assignment\n",
    "_,a,b,c = 10,20,30,40\n",
    "\n",
    "num=100\n",
    "\n",
    "num1 = 2\n",
    "\n",
    "num2 = num * num1\n",
    "print(num2)\n",
    "\n",
    "\n"
   ]
  },
  {
   "cell_type": "code",
   "execution_count": 17,
   "id": "16858a51",
   "metadata": {},
   "outputs": [
    {
     "data": {
      "text/plain": [
       "'\\n1. Special character are not allowed at the prefix of variable.\\nexample: 123num : not allowed X\\n2. the variable defination should contain any special character or space.\\nexample: Primary Number : not allowed X\\n\\n\\n'"
      ]
     },
     "execution_count": 17,
     "metadata": {},
     "output_type": "execute_result"
    }
   ],
   "source": [
    "Integer_number =100\n",
    "#Rules for variable defination\n",
    "'''\n",
    "1. Special character are not allowed at the prefix of variable.\n",
    "example: 123num : not allowed X\n",
    "2. the variable defination should contain any special character or space.\n",
    "example: Primary Number : not allowed X\n",
    "\n",
    "\n",
    "'''"
   ]
  },
  {
   "cell_type": "code",
   "execution_count": 18,
   "id": "7a1eab50",
   "metadata": {},
   "outputs": [
    {
     "name": "stdout",
     "output_type": "stream",
     "text": [
      "heyy\n",
      "300\n"
     ]
    }
   ],
   "source": [
    "# print Function\n",
    "\n",
    "print('heyy')\n",
    "print(100+200)"
   ]
  },
  {
   "cell_type": "code",
   "execution_count": 19,
   "id": "fd2cb6f0",
   "metadata": {},
   "outputs": [
    {
     "ename": "ValueError",
     "evalue": "could not convert string to float: ''",
     "output_type": "error",
     "traceback": [
      "\u001b[31m---------------------------------------------------------------------------\u001b[39m",
      "\u001b[31mValueError\u001b[39m                                Traceback (most recent call last)",
      "\u001b[36mCell\u001b[39m\u001b[36m \u001b[39m\u001b[32mIn[19]\u001b[39m\u001b[32m, line 10\u001b[39m\n\u001b[32m      1\u001b[39m \u001b[38;5;66;03m# example: simple calculator\u001b[39;00m\n\u001b[32m      3\u001b[39m \u001b[33;03m'''\u001b[39;00m\n\u001b[32m      4\u001b[39m \u001b[33;03mlogic:\u001b[39;00m\n\u001b[32m      5\u001b[39m \u001b[33;03mstep1: ask user to enter the two values\u001b[39;00m\n\u001b[32m   (...)\u001b[39m\u001b[32m      8\u001b[39m \n\u001b[32m      9\u001b[39m \u001b[33;03m'''\u001b[39;00m\n\u001b[32m---> \u001b[39m\u001b[32m10\u001b[39m num1 = \u001b[38;5;28;43mfloat\u001b[39;49m\u001b[43m(\u001b[49m\u001b[38;5;28;43minput\u001b[39;49m\u001b[43m(\u001b[49m\u001b[33;43m'\u001b[39;49m\u001b[33;43menter the first value:\u001b[39;49m\u001b[33;43m'\u001b[39;49m\u001b[43m)\u001b[49m\u001b[43m)\u001b[49m     \u001b[38;5;66;03m# type casted to float\u001b[39;00m\n\u001b[32m     11\u001b[39m num2 = \u001b[38;5;28mfloat\u001b[39m(\u001b[38;5;28minput\u001b[39m(\u001b[33m'\u001b[39m\u001b[33menter the second value:\u001b[39m\u001b[33m'\u001b[39m))     \u001b[38;5;66;03m# type casted to float\u001b[39;00m\n\u001b[32m     13\u001b[39m num3= num1 + num2\n",
      "\u001b[31mValueError\u001b[39m: could not convert string to float: ''"
     ]
    }
   ],
   "source": [
    "# example: simple calculator\n",
    "\n",
    "'''\n",
    "logic:\n",
    "step1: ask user to enter the two values\n",
    "step2: perform mathematical operation\n",
    "step3: print the output\n",
    "\n",
    "'''\n",
    "num1 = float(input('enter the first value:'))     # type casted to float\n",
    "num2 = float(input('enter the second value:'))     # type casted to float\n",
    "\n",
    "num3= num1 + num2\n",
    "\n",
    "print('The Output of Two Mathematical Number Operation',num3)\n",
    "print(f'The Output of Two Mathematical Number Operation {num3}')\n",
    "print(f'The Output of Two Mathematical Number Operation {num3}'.format(num3))"
   ]
  },
  {
   "cell_type": "code",
   "execution_count": null,
   "id": "28c6f5c1",
   "metadata": {},
   "outputs": [
    {
     "data": {
      "text/plain": [
       "'l'"
      ]
     },
     "execution_count": 9,
     "metadata": {},
     "output_type": "execute_result"
    }
   ],
   "source": [
    "#concept of indexing and slicing\n",
    "\n",
    "str = 'Hello Welcome to the World of Python Programming.'\n",
    "\n",
    "str[3]\n",
    "\n",
    "'''\n",
    "note: \n",
    "string indexing : string[start:stop:step]\n",
    "\n",
    "'''\n",
    "print(str[1:10:1])"
   ]
  },
  {
   "cell_type": "code",
   "execution_count": null,
   "id": "122f02ad",
   "metadata": {},
   "outputs": [
    {
     "name": "stdout",
     "output_type": "stream",
     "text": [
      "i SAGetCut\n"
     ]
    }
   ],
   "source": [
    "str= 'India IS A Great Country'\n",
    "print(str[3:-2:2])"
   ]
  },
  {
   "cell_type": "code",
   "execution_count": null,
   "id": "44beb2c4",
   "metadata": {},
   "outputs": [
    {
     "name": "stdout",
     "output_type": "stream",
     "text": [
      "eciN aci\n",
      "rica Nic\n"
     ]
    }
   ],
   "source": [
    "str = 'America Nice'\n",
    "print (str[-1:-9:-1])\n",
    "print (str[-9:-1: ])"
   ]
  },
  {
   "cell_type": "code",
   "execution_count": 20,
   "id": "9633ed4d",
   "metadata": {},
   "outputs": [
    {
     "name": "stdout",
     "output_type": "stream",
     "text": [
      "I am True\n"
     ]
    }
   ],
   "source": [
    "# IF STATEMENT\n",
    "\n",
    "if True:\n",
    "    print('I am True')\n",
    "    \n",
    "if False:\n",
    "    print('I am False')    "
   ]
  },
  {
   "cell_type": "code",
   "execution_count": null,
   "id": "40f38dea",
   "metadata": {},
   "outputs": [],
   "source": [
    "'''\n",
    "Logic:\n",
    "\n",
    "if <condition>:\n",
    "    print(\"output1\")\n",
    "else:\n",
    "    print(\"output2\")\n",
    "        \n",
    "'''\n",
    "\n",
    "num =100\n",
    "if  num > 100:\n",
    "    ]print(\"\")"
   ]
  },
  {
   "cell_type": "code",
   "execution_count": 21,
   "id": "de058216",
   "metadata": {},
   "outputs": [
    {
     "name": "stdout",
     "output_type": "stream",
     "text": [
      "The number is 2\n"
     ]
    }
   ],
   "source": [
    "number = float(input(\"Enter the Number between 1 to 3\"))\n",
    "\n",
    "if number == 1:\n",
    "    print(\"The number is 1\")\n",
    "\n",
    "if number == 2:\n",
    "    print(\"The number is 2\")\n",
    "    \n",
    "if number == 3:\n",
    "    print(\"The numbv=er is 3\")"
   ]
  },
  {
   "cell_type": "code",
   "execution_count": 22,
   "id": "8417ce5e",
   "metadata": {},
   "outputs": [
    {
     "name": "stdout",
     "output_type": "stream",
     "text": [
      "The Enter number is higher value\n",
      "The number is 2\n"
     ]
    }
   ],
   "source": [
    "number = float(input())\n",
    "\n",
    "if number > 2:\n",
    "    print(\"The Enter number is higher value\")\n",
    "if number < 2:\n",
    "    print(\"The number is lower value\")\n",
    "else: \n",
    "    print(\"The number is 2\")"
   ]
  },
  {
   "cell_type": "code",
   "execution_count": 25,
   "id": "13c9bded",
   "metadata": {},
   "outputs": [
    {
     "name": "stdout",
     "output_type": "stream",
     "text": [
      "The given string is plaindrom\n"
     ]
    }
   ],
   "source": [
    "#Example: To check whether the given string is palindrom or not \n",
    "\n",
    "''' \n",
    "Logic:\n",
    "\n",
    "Step1: Ask user to enter string\n",
    "Step2: Reverse the string \n",
    "Step3: Use if else logic to print the output  \n",
    "'''\n",
    "\n",
    "text1 = input(\"Enter the string\")\n",
    "text2 = text1[::-1]\n",
    "\n",
    "if text1 == text2:     #This is comparison operator\n",
    "    print(\"The given string is plaindrom\")\n",
    "else:\n",
    "    print(\"Not a palindrom\") "
   ]
  }
 ],
 "metadata": {
  "kernelspec": {
   "display_name": "Python 3",
   "language": "python",
   "name": "python3"
  },
  "language_info": {
   "codemirror_mode": {
    "name": "ipython",
    "version": 3
   },
   "file_extension": ".py",
   "mimetype": "text/x-python",
   "name": "python",
   "nbconvert_exporter": "python",
   "pygments_lexer": "ipython3",
   "version": "3.12.11"
  }
 },
 "nbformat": 4,
 "nbformat_minor": 5
}
