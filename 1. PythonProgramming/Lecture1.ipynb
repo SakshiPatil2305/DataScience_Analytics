{
 "cells": [
  {
   "cell_type": "code",
   "execution_count": 15,
   "id": "fb04ca6a",
   "metadata": {},
   "outputs": [
    {
     "name": "stdout",
     "output_type": "stream",
     "text": [
      "<class 'int'>\n",
      "<class 'float'>\n",
      "<class 'complex'>\n",
      "200\n"
     ]
    }
   ],
   "source": [
    "#Single Line comment\n",
    "# datatype in pytgon programming\n",
    "'''\n",
    "1. Int \n",
    "2. Float \n",
    "3. Complex \n",
    "4. String \n",
    "5. Boolean \n",
    "6. list \n",
    "7. tuple \n",
    "8. set \n",
    "9. dict \n",
    "10. class : Custom Datatype\n",
    "'''\n",
    "number = 100\n",
    "number1 = 23.456 \n",
    "number2 = 2 + 3j\n",
    "\n",
    "\n",
    "print(type(number))\n",
    "print(type(number1))\n",
    "print(type(number2))\n",
    "\n",
    "# variable Desfination\n",
    "\n",
    "x=10 #single variable assigment\n",
    "x,y = 1000,2000\n",
    "x,y,z,_ = 1,2,3,4  #multiple variable assignment\n",
    "_,a,b,c = 10,20,30,40\n",
    "\n",
    "num=100\n",
    "\n",
    "num1 = 2\n",
    "\n",
    "num2 = num * num1\n",
    "print(num2)\n",
    "\n",
    "\n"
   ]
  },
  {
   "cell_type": "code",
   "execution_count": 16,
   "id": "16858a51",
   "metadata": {},
   "outputs": [
    {
     "data": {
      "text/plain": [
       "'\\n1. Special character are not allowed at the prefix of variable.\\nexample: 123num : not allowed X\\n2. the variable defination should contain any special character or space.\\nexample: Primary Number : not allowed X\\n\\n\\n'"
      ]
     },
     "execution_count": 16,
     "metadata": {},
     "output_type": "execute_result"
    }
   ],
   "source": [
    "Integer_number =100\n",
    "#Rules for variable defination\n",
    "'''\n",
    "1. Special character are not allowed at the prefix of variable.\n",
    "example: 123num : not allowed X\n",
    "2. the variable defination should contain any special character or space.\n",
    "example: Primary Number : not allowed X\n",
    "\n",
    "\n",
    "'''"
   ]
  },
  {
   "cell_type": "code",
   "execution_count": 17,
   "id": "7a1eab50",
   "metadata": {},
   "outputs": [
    {
     "name": "stdout",
     "output_type": "stream",
     "text": [
      "heyy\n",
      "300\n"
     ]
    }
   ],
   "source": [
    "# print Function\n",
    "\n",
    "print('heyy')\n",
    "print(100+200)"
   ]
  },
  {
   "cell_type": "code",
   "execution_count": 18,
   "id": "fd2cb6f0",
   "metadata": {},
   "outputs": [
    {
     "name": "stdout",
     "output_type": "stream",
     "text": [
      "The Output of Two Mathematical Number Operation 254.0\n",
      "The Output of Two Mathematical Number Operation 254.0\n",
      "The Output of Two Mathematical Number Operation 254.0\n"
     ]
    }
   ],
   "source": [
    "# example: simple calculator\n",
    "\n",
    "'''\n",
    "logic:\n",
    "step1: ask user to enter the two values\n",
    "step2: perform mathematical operation\n",
    "step3: print the output\n",
    "\n",
    "'''\n",
    "num1 = float(input('enter the first value:'))     # type casted to float\n",
    "num2 = float(input('enter the second value:'))     # type casted to float\n",
    "\n",
    "num3= num1 + num2\n",
    "\n",
    "print('The Output of Two Mathematical Number Operation',num3)\n",
    "print(f'The Output of Two Mathematical Number Operation {num3}')\n",
    "print(f'The Output of Two Mathematical Number Operation {num3}'.format(num3))"
   ]
  },
  {
   "cell_type": "code",
   "execution_count": 19,
   "id": "28c6f5c1",
   "metadata": {},
   "outputs": [
    {
     "name": "stdout",
     "output_type": "stream",
     "text": [
      "ello Welc\n"
     ]
    }
   ],
   "source": [
    "#concept of indexing and slicing\n",
    "\n",
    "str = 'Hello Welcome to the World of Python Programming.'\n",
    "\n",
    "str[3]\n",
    "\n",
    "'''\n",
    "note: \n",
    "string indexing : string[start:stop:step]\n",
    "\n",
    "'''\n",
    "print(str[1:10:1])"
   ]
  },
  {
   "cell_type": "code",
   "execution_count": 20,
   "id": "122f02ad",
   "metadata": {},
   "outputs": [
    {
     "name": "stdout",
     "output_type": "stream",
     "text": [
      "i SAGetCut\n"
     ]
    }
   ],
   "source": [
    "str= 'India IS A Great Country'\n",
    "print(str[3:-2:2])"
   ]
  },
  {
   "cell_type": "code",
   "execution_count": 21,
   "id": "44beb2c4",
   "metadata": {},
   "outputs": [
    {
     "name": "stdout",
     "output_type": "stream",
     "text": [
      "eciN aci\n",
      "rica Nic\n"
     ]
    }
   ],
   "source": [
    "str = 'America Nice'\n",
    "print (str[-1:-9:-1])\n",
    "print (str[-9:-1: ])"
   ]
  },
  {
   "cell_type": "code",
   "execution_count": 22,
   "id": "9633ed4d",
   "metadata": {},
   "outputs": [
    {
     "name": "stdout",
     "output_type": "stream",
     "text": [
      "I am True\n"
     ]
    }
   ],
   "source": [
    "# IF STATEMENT\n",
    "\n",
    "if True:\n",
    "    print('I am True')\n",
    "    \n",
    "if False:\n",
    "    print('I am False')    "
   ]
  },
  {
   "cell_type": "code",
   "execution_count": 23,
   "id": "40f38dea",
   "metadata": {},
   "outputs": [
    {
     "ename": "SyntaxError",
     "evalue": "unmatched ']' (1814089470.py, line 13)",
     "output_type": "error",
     "traceback": [
      "  \u001b[36mCell\u001b[39m\u001b[36m \u001b[39m\u001b[32mIn[23]\u001b[39m\u001b[32m, line 13\u001b[39m\n\u001b[31m    \u001b[39m\u001b[31m]print(\"\")\u001b[39m\n    ^\n\u001b[31mSyntaxError\u001b[39m\u001b[31m:\u001b[39m unmatched ']'\n"
     ]
    }
   ],
   "source": [
    "'''\n",
    "Logic:\n",
    "\n",
    "if <condition>:\n",
    "    print(\"output1\")\n",
    "else:\n",
    "    print(\"output2\")\n",
    "        \n",
    "'''\n",
    "\n",
    "num =100\n",
    "if  num > 100:\n",
    "    ]print(\"\")"
   ]
  },
  {
   "cell_type": "code",
   "execution_count": null,
   "id": "de058216",
   "metadata": {},
   "outputs": [
    {
     "name": "stdout",
     "output_type": "stream",
     "text": [
      "The number is 2\n"
     ]
    }
   ],
   "source": [
    "number = float(input(\"Enter the Number between 1 to 3\"))\n",
    "\n",
    "if number == 1:\n",
    "    print(\"The number is 1\")\n",
    "\n",
    "if number == 2:\n",
    "    print(\"The number is 2\")\n",
    "    \n",
    "if number == 3:\n",
    "    print(\"The numbv=er is 3\")"
   ]
  },
  {
   "cell_type": "code",
   "execution_count": null,
   "id": "8417ce5e",
   "metadata": {},
   "outputs": [
    {
     "name": "stdout",
     "output_type": "stream",
     "text": [
      "The Enter number is higher value\n",
      "The number is 2\n"
     ]
    }
   ],
   "source": [
    "number = float(input())\n",
    "\n",
    "if number > 2:\n",
    "    print(\"The Enter number is higher value\")\n",
    "if number < 2:\n",
    "    print(\"The number is lower value\")\n",
    "else: \n",
    "    print(\"The number is 2\")"
   ]
  },
  {
   "cell_type": "code",
   "execution_count": null,
   "id": "13c9bded",
   "metadata": {},
   "outputs": [
    {
     "name": "stdout",
     "output_type": "stream",
     "text": [
      "The given string is plaindrom\n"
     ]
    }
   ],
   "source": [
    "#Example: To check whether the given string is palindrom or not \n",
    "\n",
    "''' \n",
    "Logic:\n",
    "\n",
    "Step1: Ask user to enter string\n",
    "Step2: Reverse the string \n",
    "Step3: Use if else logic to print the output  \n",
    "'''\n",
    "\n",
    "text1 = input(\"Enter the string\")\n",
    "text2 = text1[::-1]\n",
    "\n",
    "if text1 == text2:     #This is comparison operator\n",
    "    print(\"The given string is plaindrom\")\n",
    "else:\n",
    "    print(\"Not a palindrom\") "
   ]
  },
  {
   "cell_type": "code",
   "execution_count": null,
   "id": "c6635a02",
   "metadata": {},
   "outputs": [
    {
     "name": "stdout",
     "output_type": "stream",
     "text": [
      "the volume of Cylinder is9426.300000000001mm^3\n"
     ]
    }
   ],
   "source": [
    "#example: Write  a program to print Volume of Cylinder\n",
    "'''\n",
    "volume = area*height\n",
    "step1: ask a user to enter the diameter of cylinder\n",
    "step2: ask user to enter the height of the cylinder\n",
    "step3: volume = area * height \n",
    "step4: print the desired output \n",
    "\n",
    "'''\n",
    "PI = 3.1421\n",
    "Diameter = float(input(\"enter the diameter of cylinder:\"))\n",
    "Height = float(input(\"enter the height of cylinder:\"))\n",
    "\n",
    "volume =(PI/4)* (Diameter**2) * Height\n",
    "print(f'the volume of Cylinder is{volume}mm^3')"
   ]
  },
  {
   "cell_type": "code",
   "execution_count": null,
   "id": "1202a483",
   "metadata": {},
   "outputs": [
    {
     "name": "stdout",
     "output_type": "stream",
     "text": [
      "bright\n"
     ]
    }
   ],
   "source": [
    "#EXAMPLE:\n",
    "'''\n",
    "step1: ask user to enter the marks\n",
    "step2:logic:\n",
    "         marks >90: excellent\n",
    "         90<marks>60 :bright\n",
    "         marks less than 60: moderate\n",
    "step3: print the output         \n",
    "'''\n",
    "marks=float(input(\"enter the marks\"))\n",
    "\n",
    "if marks>=90:\n",
    "    print('excellent')\n",
    "elif marks <90 and marks >60:\n",
    "    print(\"bright\")\n",
    "else:\n",
    "    print(\"average\")    \n"
   ]
  },
  {
   "cell_type": "code",
   "execution_count": null,
   "id": "da43184c",
   "metadata": {},
   "outputs": [
    {
     "name": "stdout",
     "output_type": "stream",
     "text": [
      "0\n",
      "1\n",
      "2\n",
      "3\n",
      "4\n",
      "5\n",
      "6\n",
      "7\n",
      "8\n",
      "9\n"
     ]
    }
   ],
   "source": [
    "# for loop\n",
    "#range (start,stop,step)\n",
    "for i in range(0,10):\n",
    "    print (i)"
   ]
  },
  {
   "cell_type": "code",
   "execution_count": null,
   "id": "ba45de8b",
   "metadata": {},
   "outputs": [
    {
     "name": "stdout",
     "output_type": "stream",
     "text": [
      "0\n",
      "2\n",
      "4\n",
      "6\n",
      "8\n"
     ]
    }
   ],
   "source": [
    "for i in range(0,10,2):\n",
    "    print(i)"
   ]
  },
  {
   "cell_type": "code",
   "execution_count": null,
   "id": "7f70aa71",
   "metadata": {},
   "outputs": [
    {
     "name": "stdout",
     "output_type": "stream",
     "text": [
      "0 1 2 3 4 5 6 7 8 9 "
     ]
    }
   ],
   "source": [
    "for i in range(0,10):\n",
    "    print(i,end =' ')"
   ]
  },
  {
   "cell_type": "code",
   "execution_count": null,
   "id": "7fe00f55",
   "metadata": {},
   "outputs": [
    {
     "name": "stdout",
     "output_type": "stream",
     "text": [
      "\n",
      "*\n",
      "**\n",
      "***\n",
      "****\n"
     ]
    }
   ],
   "source": [
    "for i in range(5):\n",
    "  print('*'*i)"
   ]
  },
  {
   "cell_type": "code",
   "execution_count": null,
   "id": "a1355659",
   "metadata": {},
   "outputs": [
    {
     "name": "stdout",
     "output_type": "stream",
     "text": [
      "0\n",
      "1\n",
      "2\n",
      "3\n",
      "4\n",
      "5\n",
      "6\n"
     ]
    }
   ],
   "source": [
    "for i in range (0,10):\n",
    "    print(i)\n",
    "    if i==6:\n",
    "        break"
   ]
  },
  {
   "cell_type": "code",
   "execution_count": null,
   "id": "543e9607",
   "metadata": {},
   "outputs": [
    {
     "name": "stdout",
     "output_type": "stream",
     "text": [
      "0\n",
      "1\n",
      "2\n",
      "3\n",
      "4\n",
      "5\n",
      "6\n",
      "7\n",
      "8\n",
      "9\n"
     ]
    }
   ],
   "source": [
    "for i in range (0,10):\n",
    "    print(i)\n",
    "    if i==6:\n",
    "        continue"
   ]
  },
  {
   "cell_type": "code",
   "execution_count": null,
   "id": "aef3763f",
   "metadata": {},
   "outputs": [
    {
     "name": "stdout",
     "output_type": "stream",
     "text": [
      "0\n",
      "1\n",
      "2\n",
      "3\n",
      "4\n",
      "5\n",
      "6\n",
      "7\n",
      "8\n",
      "9\n"
     ]
    }
   ],
   "source": [
    "for i in range (0,10):\n",
    "    print(i)\n",
    "    if i==6:\n",
    "        continue"
   ]
  },
  {
   "cell_type": "code",
   "execution_count": null,
   "id": "c8dae5c8",
   "metadata": {},
   "outputs": [],
   "source": [
    "# define function : test\n",
    "\n",
    "def test():   #Defining a function : test\n",
    "    pass\n",
    "\n",
    "test()    #calling a function: test"
   ]
  },
  {
   "cell_type": "code",
   "execution_count": 25,
   "id": "8ef74ef1",
   "metadata": {},
   "outputs": [
    {
     "name": "stdout",
     "output_type": "stream",
     "text": [
      "the given string is a palindrome\n"
     ]
    }
   ],
   "source": [
    "# example:\n",
    "# palindromefunction definition\n",
    "def palindrome():\n",
    "\n",
    "    text1 = input('enter the string:')\n",
    "    text2 =text1[::-1]\n",
    "\n",
    "    if text1 == text2:\n",
    "        print(\"the given string is a palindrome\")\n",
    "    else:\n",
    "        print(\"the given is not a palindrome\")\n",
    "        \n",
    "    \n",
    "palindrome()   #function calling\n",
    "\n",
    "     "
   ]
  },
  {
   "cell_type": "code",
   "execution_count": 28,
   "id": "62e23ffb",
   "metadata": {},
   "outputs": [
    {
     "name": "stdout",
     "output_type": "stream",
     "text": [
      "the answer is 300\n"
     ]
    }
   ],
   "source": [
    "#example\n",
    "\n",
    "def compute(num1,num2):\n",
    "    num3 =num1+num2\n",
    "    return num3\n",
    "\n",
    "ans = compute(100,200)\n",
    " \n",
    "print(f'the answer is {ans}')"
   ]
  },
  {
   "cell_type": "code",
   "execution_count": null,
   "id": "6d909b3e",
   "metadata": {},
   "outputs": [],
   "source": []
  }
 ],
 "metadata": {
  "kernelspec": {
   "display_name": "Python 3",
   "language": "python",
   "name": "python3"
  },
  "language_info": {
   "codemirror_mode": {
    "name": "ipython",
    "version": 3
   },
   "file_extension": ".py",
   "mimetype": "text/x-python",
   "name": "python",
   "nbconvert_exporter": "python",
   "pygments_lexer": "ipython3",
   "version": "3.12.11"
  }
 },
 "nbformat": 4,
 "nbformat_minor": 5
}
