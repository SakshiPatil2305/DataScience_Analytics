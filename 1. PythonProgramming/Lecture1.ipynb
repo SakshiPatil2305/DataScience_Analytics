{
 "cells": [
  {
   "cell_type": "code",
   "execution_count": 5,
   "id": "fb04ca6a",
   "metadata": {},
   "outputs": [
    {
     "name": "stdout",
     "output_type": "stream",
     "text": [
      "<class 'int'>\n",
      "<class 'float'>\n",
      "<class 'complex'>\n",
      "200\n"
     ]
    }
   ],
   "source": [
    "#Single Line comment\n",
    "# datatype in pytgon programming\n",
    "'''\n",
    "1. Int \n",
    "2. Float \n",
    "3. Complex \n",
    "4. String \n",
    "5. Boolean \n",
    "6. list \n",
    "7. tuple \n",
    "8. set \n",
    "9. dict \n",
    "10. class \n",
    "'''\n",
    "number = 100\n",
    "number1 = 23.456 \n",
    "number2 = 2 + 3j\n",
    "\n",
    "\n",
    "print(type(number))\n",
    "print(type(number1))\n",
    "print(type(number2))\n",
    "\n",
    "# variable Desfination\n",
    "\n",
    "x=10 #single variable assigment\n",
    "x,y = 1000,2000\n",
    "x,y,z,_ = 1,2,3,4  #multiple variable assignment\n",
    "_,a,b,c = 10,20,30,40\n",
    "\n",
    "num=100\n",
    "\n",
    "num1 = 2\n",
    "\n",
    "num2 = num * num1\n",
    "print(num2)\n",
    "\n",
    "\n"
   ]
  },
  {
   "cell_type": "code",
   "execution_count": null,
   "id": "16858a51",
   "metadata": {},
   "outputs": [],
   "source": []
  }
 ],
 "metadata": {
  "kernelspec": {
   "display_name": "Python 3",
   "language": "python",
   "name": "python3"
  },
  "language_info": {
   "codemirror_mode": {
    "name": "ipython",
    "version": 3
   },
   "file_extension": ".py",
   "mimetype": "text/x-python",
   "name": "python",
   "nbconvert_exporter": "python",
   "pygments_lexer": "ipython3",
   "version": "3.12.11"
  }
 },
 "nbformat": 4,
 "nbformat_minor": 5
}
